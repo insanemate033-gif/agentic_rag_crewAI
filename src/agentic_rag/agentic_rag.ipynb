{
 "cells": [
  {
   "cell_type": "code",
   "execution_count": 1,
   "metadata": {},
   "outputs": [
    {
     "name": "stdout",
     "output_type": "stream",
     "text": [
      "Project root added to sys.path: /Users/avinashgohite/Desktop/agentic_RAG\n",
      "Current sys.path: ['/Users/avinashgohite/Desktop/agentic_RAG', '/Library/Frameworks/Python.framework/Versions/3.11/lib/python311.zip', '/Library/Frameworks/Python.framework/Versions/3.11/lib/python3.11', '/Library/Frameworks/Python.framework/Versions/3.11/lib/python3.11/lib-dynload', '', '/Users/avinashgohite/Desktop/agentic_RAG/.venv/lib/python3.11/site-packages']\n"
     ]
    }
   ],
   "source": [
    "import os\n",
    "import sys\n",
    "\n",
    "# Get the path to the directory containing the current notebook\n",
    "# This assumes agentic_rag.ipynb is directly inside src/agentic_rag/\n",
    "current_notebook_dir = os.path.abspath(os.path.dirname('__file__'))\n",
    "\n",
    "# Navigate up to the project root (AGENTIC_RAG/)\n",
    "# current_notebook_dir is `AGENTIC_RAG/src/agentic_rag/`\n",
    "# Go up once to `AGENTIC_RAG/src/`\n",
    "# Go up twice to `AGENTIC_RAG/` (the root)\n",
    "project_root = os.path.abspath(os.path.join(current_notebook_dir, '..', '..'))\n",
    "\n",
    "# Add the project root to sys.path if it's not already there\n",
    "if project_root not in sys.path:\n",
    "    sys.path.insert(0, project_root)\n",
    "\n",
    "print(f\"Project root added to sys.path: {project_root}\")\n",
    "print(f\"Current sys.path: {sys.path}\")"
   ]
  },
  {
   "cell_type": "code",
   "execution_count": 2,
   "metadata": {},
   "outputs": [
    {
     "name": "stdout",
     "output_type": "stream",
     "text": [
      "Requirement already satisfied: chonkie[semantic] in /Users/avinashgohite/Desktop/agentic_RAG/.venv/lib/python3.11/site-packages (1.0.10)\n",
      "Requirement already satisfied: tokenizers>=0.16.0 in /Users/avinashgohite/Desktop/agentic_RAG/.venv/lib/python3.11/site-packages (from chonkie[semantic]) (0.20.3)\n",
      "Requirement already satisfied: tqdm>=4.64.0 in /Users/avinashgohite/Desktop/agentic_RAG/.venv/lib/python3.11/site-packages (from chonkie[semantic]) (4.67.1)\n",
      "Requirement already satisfied: model2vec>=0.3.0 in /Users/avinashgohite/Desktop/agentic_RAG/.venv/lib/python3.11/site-packages (from chonkie[semantic]) (0.6.0)\n",
      "Requirement already satisfied: numpy<3.0,>=2.0.0 in /Users/avinashgohite/Desktop/agentic_RAG/.venv/lib/python3.11/site-packages (from chonkie[semantic]) (2.3.0)\n",
      "Requirement already satisfied: jinja2 in /Users/avinashgohite/Desktop/agentic_RAG/.venv/lib/python3.11/site-packages (from model2vec>=0.3.0->chonkie[semantic]) (3.1.6)\n",
      "Requirement already satisfied: joblib in /Users/avinashgohite/Desktop/agentic_RAG/.venv/lib/python3.11/site-packages (from model2vec>=0.3.0->chonkie[semantic]) (1.5.1)\n",
      "Requirement already satisfied: rich in /Users/avinashgohite/Desktop/agentic_RAG/.venv/lib/python3.11/site-packages (from model2vec>=0.3.0->chonkie[semantic]) (13.9.4)\n",
      "Requirement already satisfied: safetensors in /Users/avinashgohite/Desktop/agentic_RAG/.venv/lib/python3.11/site-packages (from model2vec>=0.3.0->chonkie[semantic]) (0.5.3)\n",
      "Requirement already satisfied: setuptools in /Users/avinashgohite/Desktop/agentic_RAG/.venv/lib/python3.11/site-packages (from model2vec>=0.3.0->chonkie[semantic]) (65.5.0)\n",
      "Requirement already satisfied: huggingface-hub<1.0,>=0.16.4 in /Users/avinashgohite/Desktop/agentic_RAG/.venv/lib/python3.11/site-packages (from tokenizers>=0.16.0->chonkie[semantic]) (0.33.0)\n",
      "Requirement already satisfied: filelock in /Users/avinashgohite/Desktop/agentic_RAG/.venv/lib/python3.11/site-packages (from huggingface-hub<1.0,>=0.16.4->tokenizers>=0.16.0->chonkie[semantic]) (3.18.0)\n",
      "Requirement already satisfied: fsspec>=2023.5.0 in /Users/avinashgohite/Desktop/agentic_RAG/.venv/lib/python3.11/site-packages (from huggingface-hub<1.0,>=0.16.4->tokenizers>=0.16.0->chonkie[semantic]) (2025.5.1)\n",
      "Requirement already satisfied: packaging>=20.9 in /Users/avinashgohite/Desktop/agentic_RAG/.venv/lib/python3.11/site-packages (from huggingface-hub<1.0,>=0.16.4->tokenizers>=0.16.0->chonkie[semantic]) (24.2)\n",
      "Requirement already satisfied: pyyaml>=5.1 in /Users/avinashgohite/Desktop/agentic_RAG/.venv/lib/python3.11/site-packages (from huggingface-hub<1.0,>=0.16.4->tokenizers>=0.16.0->chonkie[semantic]) (6.0.2)\n",
      "Requirement already satisfied: requests in /Users/avinashgohite/Desktop/agentic_RAG/.venv/lib/python3.11/site-packages (from huggingface-hub<1.0,>=0.16.4->tokenizers>=0.16.0->chonkie[semantic]) (2.32.4)\n",
      "Requirement already satisfied: typing-extensions>=3.7.4.3 in /Users/avinashgohite/Desktop/agentic_RAG/.venv/lib/python3.11/site-packages (from huggingface-hub<1.0,>=0.16.4->tokenizers>=0.16.0->chonkie[semantic]) (4.14.0)\n",
      "Requirement already satisfied: hf-xet<2.0.0,>=1.1.2 in /Users/avinashgohite/Desktop/agentic_RAG/.venv/lib/python3.11/site-packages (from huggingface-hub<1.0,>=0.16.4->tokenizers>=0.16.0->chonkie[semantic]) (1.1.4)\n",
      "Requirement already satisfied: MarkupSafe>=2.0 in /Users/avinashgohite/Desktop/agentic_RAG/.venv/lib/python3.11/site-packages (from jinja2->model2vec>=0.3.0->chonkie[semantic]) (3.0.2)\n",
      "Requirement already satisfied: markdown-it-py>=2.2.0 in /Users/avinashgohite/Desktop/agentic_RAG/.venv/lib/python3.11/site-packages (from rich->model2vec>=0.3.0->chonkie[semantic]) (3.0.0)\n",
      "Requirement already satisfied: pygments<3.0.0,>=2.13.0 in /Users/avinashgohite/Desktop/agentic_RAG/.venv/lib/python3.11/site-packages (from rich->model2vec>=0.3.0->chonkie[semantic]) (2.19.1)\n",
      "Requirement already satisfied: mdurl~=0.1 in /Users/avinashgohite/Desktop/agentic_RAG/.venv/lib/python3.11/site-packages (from markdown-it-py>=2.2.0->rich->model2vec>=0.3.0->chonkie[semantic]) (0.1.2)\n",
      "Requirement already satisfied: charset_normalizer<4,>=2 in /Users/avinashgohite/Desktop/agentic_RAG/.venv/lib/python3.11/site-packages (from requests->huggingface-hub<1.0,>=0.16.4->tokenizers>=0.16.0->chonkie[semantic]) (3.4.2)\n",
      "Requirement already satisfied: idna<4,>=2.5 in /Users/avinashgohite/Desktop/agentic_RAG/.venv/lib/python3.11/site-packages (from requests->huggingface-hub<1.0,>=0.16.4->tokenizers>=0.16.0->chonkie[semantic]) (3.10)\n",
      "Requirement already satisfied: urllib3<3,>=1.21.1 in /Users/avinashgohite/Desktop/agentic_RAG/.venv/lib/python3.11/site-packages (from requests->huggingface-hub<1.0,>=0.16.4->tokenizers>=0.16.0->chonkie[semantic]) (2.5.0)\n",
      "Requirement already satisfied: certifi>=2017.4.17 in /Users/avinashgohite/Desktop/agentic_RAG/.venv/lib/python3.11/site-packages (from requests->huggingface-hub<1.0,>=0.16.4->tokenizers>=0.16.0->chonkie[semantic]) (2025.6.15)\n",
      "\n",
      "\u001b[1m[\u001b[0m\u001b[34;49mnotice\u001b[0m\u001b[1;39;49m]\u001b[0m\u001b[39;49m A new release of pip available: \u001b[0m\u001b[31;49m22.3.1\u001b[0m\u001b[39;49m -> \u001b[0m\u001b[32;49m25.1.1\u001b[0m\n",
      "\u001b[1m[\u001b[0m\u001b[34;49mnotice\u001b[0m\u001b[1;39;49m]\u001b[0m\u001b[39;49m To update, run: \u001b[0m\u001b[32;49mpip install --upgrade pip\u001b[0m\n",
      "Requirement already satisfied: markitdown in /Users/avinashgohite/Desktop/agentic_RAG/.venv/lib/python3.11/site-packages (0.1.2)\n",
      "Requirement already satisfied: beautifulsoup4 in /Users/avinashgohite/Desktop/agentic_RAG/.venv/lib/python3.11/site-packages (from markitdown) (4.13.4)\n",
      "Requirement already satisfied: charset-normalizer in /Users/avinashgohite/Desktop/agentic_RAG/.venv/lib/python3.11/site-packages (from markitdown) (3.4.2)\n",
      "Requirement already satisfied: defusedxml in /Users/avinashgohite/Desktop/agentic_RAG/.venv/lib/python3.11/site-packages (from markitdown) (0.7.1)\n",
      "Requirement already satisfied: magika~=0.6.1 in /Users/avinashgohite/Desktop/agentic_RAG/.venv/lib/python3.11/site-packages (from markitdown) (0.6.2)\n",
      "Requirement already satisfied: markdownify in /Users/avinashgohite/Desktop/agentic_RAG/.venv/lib/python3.11/site-packages (from markitdown) (1.1.0)\n",
      "Requirement already satisfied: requests in /Users/avinashgohite/Desktop/agentic_RAG/.venv/lib/python3.11/site-packages (from markitdown) (2.32.4)\n",
      "Requirement already satisfied: click>=8.1.7 in /Users/avinashgohite/Desktop/agentic_RAG/.venv/lib/python3.11/site-packages (from magika~=0.6.1->markitdown) (8.2.1)\n",
      "Requirement already satisfied: onnxruntime>=1.17.0 in /Users/avinashgohite/Desktop/agentic_RAG/.venv/lib/python3.11/site-packages (from magika~=0.6.1->markitdown) (1.22.0)\n",
      "Requirement already satisfied: numpy>=1.24 in /Users/avinashgohite/Desktop/agentic_RAG/.venv/lib/python3.11/site-packages (from magika~=0.6.1->markitdown) (2.3.0)\n",
      "Requirement already satisfied: python-dotenv>=1.0.1 in /Users/avinashgohite/Desktop/agentic_RAG/.venv/lib/python3.11/site-packages (from magika~=0.6.1->markitdown) (1.1.0)\n",
      "Requirement already satisfied: soupsieve>1.2 in /Users/avinashgohite/Desktop/agentic_RAG/.venv/lib/python3.11/site-packages (from beautifulsoup4->markitdown) (2.7)\n",
      "Requirement already satisfied: typing-extensions>=4.0.0 in /Users/avinashgohite/Desktop/agentic_RAG/.venv/lib/python3.11/site-packages (from beautifulsoup4->markitdown) (4.14.0)\n",
      "Requirement already satisfied: six<2,>=1.15 in /Users/avinashgohite/Desktop/agentic_RAG/.venv/lib/python3.11/site-packages (from markdownify->markitdown) (1.17.0)\n",
      "Requirement already satisfied: idna<4,>=2.5 in /Users/avinashgohite/Desktop/agentic_RAG/.venv/lib/python3.11/site-packages (from requests->markitdown) (3.10)\n",
      "Requirement already satisfied: urllib3<3,>=1.21.1 in /Users/avinashgohite/Desktop/agentic_RAG/.venv/lib/python3.11/site-packages (from requests->markitdown) (2.5.0)\n",
      "Requirement already satisfied: certifi>=2017.4.17 in /Users/avinashgohite/Desktop/agentic_RAG/.venv/lib/python3.11/site-packages (from requests->markitdown) (2025.6.15)\n",
      "Requirement already satisfied: coloredlogs in /Users/avinashgohite/Desktop/agentic_RAG/.venv/lib/python3.11/site-packages (from onnxruntime>=1.17.0->magika~=0.6.1->markitdown) (15.0.1)\n",
      "Requirement already satisfied: flatbuffers in /Users/avinashgohite/Desktop/agentic_RAG/.venv/lib/python3.11/site-packages (from onnxruntime>=1.17.0->magika~=0.6.1->markitdown) (25.2.10)\n",
      "Requirement already satisfied: packaging in /Users/avinashgohite/Desktop/agentic_RAG/.venv/lib/python3.11/site-packages (from onnxruntime>=1.17.0->magika~=0.6.1->markitdown) (24.2)\n",
      "Requirement already satisfied: protobuf in /Users/avinashgohite/Desktop/agentic_RAG/.venv/lib/python3.11/site-packages (from onnxruntime>=1.17.0->magika~=0.6.1->markitdown) (5.29.5)\n",
      "Requirement already satisfied: sympy in /Users/avinashgohite/Desktop/agentic_RAG/.venv/lib/python3.11/site-packages (from onnxruntime>=1.17.0->magika~=0.6.1->markitdown) (1.14.0)\n",
      "Requirement already satisfied: humanfriendly>=9.1 in /Users/avinashgohite/Desktop/agentic_RAG/.venv/lib/python3.11/site-packages (from coloredlogs->onnxruntime>=1.17.0->magika~=0.6.1->markitdown) (10.0)\n",
      "Requirement already satisfied: mpmath<1.4,>=1.1.0 in /Users/avinashgohite/Desktop/agentic_RAG/.venv/lib/python3.11/site-packages (from sympy->onnxruntime>=1.17.0->magika~=0.6.1->markitdown) (1.3.0)\n",
      "\n",
      "\u001b[1m[\u001b[0m\u001b[34;49mnotice\u001b[0m\u001b[1;39;49m]\u001b[0m\u001b[39;49m A new release of pip available: \u001b[0m\u001b[31;49m22.3.1\u001b[0m\u001b[39;49m -> \u001b[0m\u001b[32;49m25.1.1\u001b[0m\n",
      "\u001b[1m[\u001b[0m\u001b[34;49mnotice\u001b[0m\u001b[1;39;49m]\u001b[0m\u001b[39;49m To update, run: \u001b[0m\u001b[32;49mpip install --upgrade pip\u001b[0m\n",
      "Requirement already satisfied: qdrant-client in /Users/avinashgohite/Desktop/agentic_RAG/.venv/lib/python3.11/site-packages (1.14.3)\n",
      "Requirement already satisfied: grpcio>=1.41.0 in /Users/avinashgohite/Desktop/agentic_RAG/.venv/lib/python3.11/site-packages (from qdrant-client) (1.73.0)\n",
      "Requirement already satisfied: httpx[http2]>=0.20.0 in /Users/avinashgohite/Desktop/agentic_RAG/.venv/lib/python3.11/site-packages (from qdrant-client) (0.28.1)\n",
      "Requirement already satisfied: numpy>=1.21 in /Users/avinashgohite/Desktop/agentic_RAG/.venv/lib/python3.11/site-packages (from qdrant-client) (2.3.0)\n",
      "Requirement already satisfied: portalocker<3.0.0,>=2.7.0 in /Users/avinashgohite/Desktop/agentic_RAG/.venv/lib/python3.11/site-packages (from qdrant-client) (2.10.1)\n",
      "Requirement already satisfied: protobuf>=3.20.0 in /Users/avinashgohite/Desktop/agentic_RAG/.venv/lib/python3.11/site-packages (from qdrant-client) (5.29.5)\n",
      "Requirement already satisfied: pydantic!=2.0.*,!=2.1.*,!=2.2.0,>=1.10.8 in /Users/avinashgohite/Desktop/agentic_RAG/.venv/lib/python3.11/site-packages (from qdrant-client) (2.11.7)\n",
      "Requirement already satisfied: urllib3<3,>=1.26.14 in /Users/avinashgohite/Desktop/agentic_RAG/.venv/lib/python3.11/site-packages (from qdrant-client) (2.5.0)\n",
      "Requirement already satisfied: anyio in /Users/avinashgohite/Desktop/agentic_RAG/.venv/lib/python3.11/site-packages (from httpx[http2]>=0.20.0->qdrant-client) (4.9.0)\n",
      "Requirement already satisfied: certifi in /Users/avinashgohite/Desktop/agentic_RAG/.venv/lib/python3.11/site-packages (from httpx[http2]>=0.20.0->qdrant-client) (2025.6.15)\n",
      "Requirement already satisfied: httpcore==1.* in /Users/avinashgohite/Desktop/agentic_RAG/.venv/lib/python3.11/site-packages (from httpx[http2]>=0.20.0->qdrant-client) (1.0.9)\n",
      "Requirement already satisfied: idna in /Users/avinashgohite/Desktop/agentic_RAG/.venv/lib/python3.11/site-packages (from httpx[http2]>=0.20.0->qdrant-client) (3.10)\n",
      "Requirement already satisfied: h2<5,>=3 in /Users/avinashgohite/Desktop/agentic_RAG/.venv/lib/python3.11/site-packages (from httpx[http2]>=0.20.0->qdrant-client) (4.2.0)\n",
      "Requirement already satisfied: h11>=0.16 in /Users/avinashgohite/Desktop/agentic_RAG/.venv/lib/python3.11/site-packages (from httpcore==1.*->httpx[http2]>=0.20.0->qdrant-client) (0.16.0)\n",
      "Requirement already satisfied: annotated-types>=0.6.0 in /Users/avinashgohite/Desktop/agentic_RAG/.venv/lib/python3.11/site-packages (from pydantic!=2.0.*,!=2.1.*,!=2.2.0,>=1.10.8->qdrant-client) (0.7.0)\n",
      "Requirement already satisfied: pydantic-core==2.33.2 in /Users/avinashgohite/Desktop/agentic_RAG/.venv/lib/python3.11/site-packages (from pydantic!=2.0.*,!=2.1.*,!=2.2.0,>=1.10.8->qdrant-client) (2.33.2)\n",
      "Requirement already satisfied: typing-extensions>=4.12.2 in /Users/avinashgohite/Desktop/agentic_RAG/.venv/lib/python3.11/site-packages (from pydantic!=2.0.*,!=2.1.*,!=2.2.0,>=1.10.8->qdrant-client) (4.14.0)\n",
      "Requirement already satisfied: typing-inspection>=0.4.0 in /Users/avinashgohite/Desktop/agentic_RAG/.venv/lib/python3.11/site-packages (from pydantic!=2.0.*,!=2.1.*,!=2.2.0,>=1.10.8->qdrant-client) (0.4.1)\n",
      "Requirement already satisfied: hyperframe<7,>=6.1 in /Users/avinashgohite/Desktop/agentic_RAG/.venv/lib/python3.11/site-packages (from h2<5,>=3->httpx[http2]>=0.20.0->qdrant-client) (6.1.0)\n",
      "Requirement already satisfied: hpack<5,>=4.1 in /Users/avinashgohite/Desktop/agentic_RAG/.venv/lib/python3.11/site-packages (from h2<5,>=3->httpx[http2]>=0.20.0->qdrant-client) (4.1.0)\n",
      "Requirement already satisfied: sniffio>=1.1 in /Users/avinashgohite/Desktop/agentic_RAG/.venv/lib/python3.11/site-packages (from anyio->httpx[http2]>=0.20.0->qdrant-client) (1.3.1)\n",
      "\n",
      "\u001b[1m[\u001b[0m\u001b[34;49mnotice\u001b[0m\u001b[1;39;49m]\u001b[0m\u001b[39;49m A new release of pip available: \u001b[0m\u001b[31;49m22.3.1\u001b[0m\u001b[39;49m -> \u001b[0m\u001b[32;49m25.1.1\u001b[0m\n",
      "\u001b[1m[\u001b[0m\u001b[34;49mnotice\u001b[0m\u001b[1;39;49m]\u001b[0m\u001b[39;49m To update, run: \u001b[0m\u001b[32;49mpip install --upgrade pip\u001b[0m\n",
      "Requirement already satisfied: fastembed in /Users/avinashgohite/Desktop/agentic_RAG/.venv/lib/python3.11/site-packages (0.7.1)\n",
      "Requirement already satisfied: huggingface-hub<1.0,>=0.20 in /Users/avinashgohite/Desktop/agentic_RAG/.venv/lib/python3.11/site-packages (from fastembed) (0.33.0)\n",
      "Requirement already satisfied: loguru<0.8.0,>=0.7.2 in /Users/avinashgohite/Desktop/agentic_RAG/.venv/lib/python3.11/site-packages (from fastembed) (0.7.3)\n",
      "Requirement already satisfied: mmh3<6.0.0,>=4.1.0 in /Users/avinashgohite/Desktop/agentic_RAG/.venv/lib/python3.11/site-packages (from fastembed) (5.1.0)\n",
      "Requirement already satisfied: numpy>=1.21 in /Users/avinashgohite/Desktop/agentic_RAG/.venv/lib/python3.11/site-packages (from fastembed) (2.3.0)\n",
      "Requirement already satisfied: onnxruntime!=1.20.0,>=1.17.0 in /Users/avinashgohite/Desktop/agentic_RAG/.venv/lib/python3.11/site-packages (from fastembed) (1.22.0)\n",
      "Requirement already satisfied: pillow<12.0.0,>=10.3.0 in /Users/avinashgohite/Desktop/agentic_RAG/.venv/lib/python3.11/site-packages (from fastembed) (11.2.1)\n",
      "Requirement already satisfied: py-rust-stemmers<0.2.0,>=0.1.0 in /Users/avinashgohite/Desktop/agentic_RAG/.venv/lib/python3.11/site-packages (from fastembed) (0.1.5)\n",
      "Requirement already satisfied: requests<3.0,>=2.31 in /Users/avinashgohite/Desktop/agentic_RAG/.venv/lib/python3.11/site-packages (from fastembed) (2.32.4)\n",
      "Requirement already satisfied: tokenizers<1.0,>=0.15 in /Users/avinashgohite/Desktop/agentic_RAG/.venv/lib/python3.11/site-packages (from fastembed) (0.20.3)\n",
      "Requirement already satisfied: tqdm<5.0,>=4.66 in /Users/avinashgohite/Desktop/agentic_RAG/.venv/lib/python3.11/site-packages (from fastembed) (4.67.1)\n",
      "Requirement already satisfied: filelock in /Users/avinashgohite/Desktop/agentic_RAG/.venv/lib/python3.11/site-packages (from huggingface-hub<1.0,>=0.20->fastembed) (3.18.0)\n",
      "Requirement already satisfied: fsspec>=2023.5.0 in /Users/avinashgohite/Desktop/agentic_RAG/.venv/lib/python3.11/site-packages (from huggingface-hub<1.0,>=0.20->fastembed) (2025.5.1)\n",
      "Requirement already satisfied: packaging>=20.9 in /Users/avinashgohite/Desktop/agentic_RAG/.venv/lib/python3.11/site-packages (from huggingface-hub<1.0,>=0.20->fastembed) (24.2)\n",
      "Requirement already satisfied: pyyaml>=5.1 in /Users/avinashgohite/Desktop/agentic_RAG/.venv/lib/python3.11/site-packages (from huggingface-hub<1.0,>=0.20->fastembed) (6.0.2)\n",
      "Requirement already satisfied: typing-extensions>=3.7.4.3 in /Users/avinashgohite/Desktop/agentic_RAG/.venv/lib/python3.11/site-packages (from huggingface-hub<1.0,>=0.20->fastembed) (4.14.0)\n",
      "Requirement already satisfied: hf-xet<2.0.0,>=1.1.2 in /Users/avinashgohite/Desktop/agentic_RAG/.venv/lib/python3.11/site-packages (from huggingface-hub<1.0,>=0.20->fastembed) (1.1.4)\n",
      "Requirement already satisfied: coloredlogs in /Users/avinashgohite/Desktop/agentic_RAG/.venv/lib/python3.11/site-packages (from onnxruntime!=1.20.0,>=1.17.0->fastembed) (15.0.1)\n",
      "Requirement already satisfied: flatbuffers in /Users/avinashgohite/Desktop/agentic_RAG/.venv/lib/python3.11/site-packages (from onnxruntime!=1.20.0,>=1.17.0->fastembed) (25.2.10)\n",
      "Requirement already satisfied: protobuf in /Users/avinashgohite/Desktop/agentic_RAG/.venv/lib/python3.11/site-packages (from onnxruntime!=1.20.0,>=1.17.0->fastembed) (5.29.5)\n",
      "Requirement already satisfied: sympy in /Users/avinashgohite/Desktop/agentic_RAG/.venv/lib/python3.11/site-packages (from onnxruntime!=1.20.0,>=1.17.0->fastembed) (1.14.0)\n",
      "Requirement already satisfied: charset_normalizer<4,>=2 in /Users/avinashgohite/Desktop/agentic_RAG/.venv/lib/python3.11/site-packages (from requests<3.0,>=2.31->fastembed) (3.4.2)\n",
      "Requirement already satisfied: idna<4,>=2.5 in /Users/avinashgohite/Desktop/agentic_RAG/.venv/lib/python3.11/site-packages (from requests<3.0,>=2.31->fastembed) (3.10)\n",
      "Requirement already satisfied: urllib3<3,>=1.21.1 in /Users/avinashgohite/Desktop/agentic_RAG/.venv/lib/python3.11/site-packages (from requests<3.0,>=2.31->fastembed) (2.5.0)\n",
      "Requirement already satisfied: certifi>=2017.4.17 in /Users/avinashgohite/Desktop/agentic_RAG/.venv/lib/python3.11/site-packages (from requests<3.0,>=2.31->fastembed) (2025.6.15)\n",
      "Requirement already satisfied: humanfriendly>=9.1 in /Users/avinashgohite/Desktop/agentic_RAG/.venv/lib/python3.11/site-packages (from coloredlogs->onnxruntime!=1.20.0,>=1.17.0->fastembed) (10.0)\n",
      "Requirement already satisfied: mpmath<1.4,>=1.1.0 in /Users/avinashgohite/Desktop/agentic_RAG/.venv/lib/python3.11/site-packages (from sympy->onnxruntime!=1.20.0,>=1.17.0->fastembed) (1.3.0)\n",
      "\n",
      "\u001b[1m[\u001b[0m\u001b[34;49mnotice\u001b[0m\u001b[1;39;49m]\u001b[0m\u001b[39;49m A new release of pip available: \u001b[0m\u001b[31;49m22.3.1\u001b[0m\u001b[39;49m -> \u001b[0m\u001b[32;49m25.1.1\u001b[0m\n",
      "\u001b[1m[\u001b[0m\u001b[34;49mnotice\u001b[0m\u001b[1;39;49m]\u001b[0m\u001b[39;49m To update, run: \u001b[0m\u001b[32;49mpip install --upgrade pip\u001b[0m\n"
     ]
    }
   ],
   "source": [
    "!pip  install \"chonkie[semantic]\"\n",
    "!pip  install markitdown\n",
    "!pip  install qdrant-client\n",
    "!pip  install fastembed"
   ]
  },
  {
   "cell_type": "code",
   "execution_count": null,
   "metadata": {},
   "outputs": [],
   "source": []
  },
  {
   "cell_type": "code",
   "execution_count": 3,
   "metadata": {},
   "outputs": [],
   "source": [
    "from crewai import Agent, Crew, Process, Task\n",
    "from crewai.project import CrewBase, agent, crew, task\n",
    "from crewai_tools import SerperDevTool\n",
    "from crewai_tools import PDFSearchTool\n",
    "from src.agentic_rag.tool.custom_tool import DocumentSearchTool\n",
    "# If FireCrawlWebSearchTool is also in custom_tool.py and needed here:\n",
    "from src.agentic_rag.tool.custom_tool import FireCrawlWebSearchTool\n"
   ]
  },
  {
   "cell_type": "code",
   "execution_count": 4,
   "metadata": {},
   "outputs": [],
   "source": [
    "pdf_tool = DocumentSearchTool(file_path='/Users/avinashgohite/Desktop/agentic_RAG/knowledge/dspy.pdf')"
   ]
  },
  {
   "cell_type": "code",
   "execution_count": 5,
   "metadata": {},
   "outputs": [],
   "source": [
    "web_search_tool = SerperDevTool()"
   ]
  },
  {
   "cell_type": "code",
   "execution_count": 6,
   "metadata": {},
   "outputs": [],
   "source": [
    "import yaml\n",
    "with open('config/agents.yaml', 'r') as f:\n",
    "    agents_config = yaml.safe_load(f)\n",
    "\n",
    "with open('config/tasks.yaml', 'r') as f:\n",
    "    tasks_config = yaml.safe_load(f)"
   ]
  },
  {
   "cell_type": "code",
   "execution_count": 7,
   "metadata": {},
   "outputs": [],
   "source": [
    "retriever_agent = Agent(\n",
    "    config=agents_config['retriever_agent'],\n",
    "    verbose=False,\n",
    "    tools=[\n",
    "        pdf_tool,\n",
    "        web_search_tool\n",
    "    ]\n",
    ")\n",
    "\n",
    "response_synthesizer_agent = Agent(\n",
    "    config=agents_config['response_synthesizer_agent'],\n",
    "    verbose=False\n",
    ")\n",
    "\n",
    "retrieval_task = Task(\n",
    "    description=tasks_config['retrieval_task']['description'],\n",
    "    expected_output=tasks_config['retrieval_task']['expected_output'],  \n",
    "    agent=retriever_agent\n",
    ")\n",
    "\n",
    "response_task = Task(\n",
    "    description=tasks_config['response_task']['description'],\n",
    "    expected_output=tasks_config['response_task']['expected_output'], \n",
    "    agent=response_synthesizer_agent\n",
    ")"
   ]
  },
  {
   "cell_type": "code",
   "execution_count": 8,
   "metadata": {},
   "outputs": [],
   "source": [
    "crew = Crew(\n",
    "\t\t\tagents=[retriever_agent, response_synthesizer_agent], \n",
    "\t\t\ttasks=[retrieval_task, response_task],\n",
    "\t\t\tprocess=Process.sequential,\n",
    "\t\t\tverbose=False,\n",
    "\t\t\t# process=Process.hierarchical, # In case you wanna use that instead https://docs.crewai.com/how-to/Hierarchical/\n",
    "\t\t)"
   ]
  },
  {
   "cell_type": "code",
   "execution_count": 9,
   "metadata": {},
   "outputs": [
    {
     "name": "stdout",
     "output_type": "stream",
     "text": [
      "Elon Reeve Musk is a prominent businessman renowned for his impactful leadership in several high-profile technology companies. Born on June 28, 1971, in Pretoria, South Africa, Musk has significantly influenced sectors like electric vehicles and space exploration. He is notably associated with his leadership roles in Tesla and SpaceX and has founded other companies such as OpenAI. As of May 2025, Forbes estimates his net worth to be 405.8 billion USD, maintaining his status as the wealthiest person globally since 2021 according to the Google knowledge graph. His diverse family life includes several children and marriages to Talulah Riley and Justine Musk. Additionally, Musk has served as an advisor to the President of the United States. More information can be found on his [Wikipedia page](https://en.wikipedia.org/wiki/Elon_Musk).\n"
     ]
    }
   ],
   "source": [
    "result = crew.kickoff(inputs={\"query\": \"Who is elon musk?\"})\n",
    "print(result)"
   ]
  }
 ],
 "metadata": {
  "kernelspec": {
   "display_name": ".venv",
   "language": "python",
   "name": "python3"
  },
  "language_info": {
   "codemirror_mode": {
    "name": "ipython",
    "version": 3
   },
   "file_extension": ".py",
   "mimetype": "text/x-python",
   "name": "python",
   "nbconvert_exporter": "python",
   "pygments_lexer": "ipython3",
   "version": "3.11.2"
  }
 },
 "nbformat": 4,
 "nbformat_minor": 2
}
